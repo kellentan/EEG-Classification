{
 "cells": [
  {
   "cell_type": "code",
   "execution_count": 1,
   "metadata": {},
   "outputs": [],
   "source": [
    "# Import Statements\n",
    "import eeg_utils\n",
    "import numpy as np\n",
    "from eeg_utils import *\n",
    "from tensorflow import keras\n",
    "from sklearn.model_selection import train_test_split"
   ]
  },
  {
   "cell_type": "code",
   "execution_count": 2,
   "metadata": {},
   "outputs": [],
   "source": [
    "# Load EEG Data\n",
    "X_test = np.load(\"X_test.npy\")\n",
    "y_test = np.load(\"y_test.npy\")\n",
    "person_train_valid = np.load(\"person_train_valid.npy\")\n",
    "X_train_valid = np.load(\"X_train_valid.npy\")\n",
    "y_train_valid = np.load(\"y_train_valid.npy\")\n",
    "person_test = np.load(\"person_test.npy\")"
   ]
  },
  {
   "cell_type": "code",
   "execution_count": 3,
   "metadata": {},
   "outputs": [
    {
     "name": "stdout",
     "output_type": "stream",
     "text": [
      "Training/Valid data shape: (2115, 22, 1000)\n",
      "Test data shape: (443, 22, 1000)\n",
      "Training/Valid target shape: (2115,)\n",
      "Test target shape: (443,)\n",
      "Person train/valid shape: (2115, 1)\n",
      "Person test shape: (443, 1)\n"
     ]
    }
   ],
   "source": [
    "# Visualize EEG Data Shapes\n",
    "print(\"Training/Valid data shape: {}\".format(X_train_valid.shape))\n",
    "print(\"Test data shape: {}\".format(X_test.shape))\n",
    "print(\"Training/Valid target shape: {}\".format(y_train_valid.shape))\n",
    "print(\"Test target shape: {}\".format(y_test.shape))\n",
    "print(\"Person train/valid shape: {}\".format(person_train_valid.shape))\n",
    "print(\"Person test shape: {}\".format(person_test.shape))"
   ]
  },
  {
   "cell_type": "code",
   "execution_count": 4,
   "metadata": {},
   "outputs": [],
   "source": [
    "# Preprocess and Split Training Data\n",
    "data_config = {\"Duplicate\": 2, \"Mu\": 0.0, \"Sigma\": 0.5, \"Time_Point\": 500}\n",
    "X_train_valid, y_train_valid, X_test, y_test = vae_preprocess_data(X_train_valid,\n",
    "                                                               y_train_valid,\n",
    "                                                               X_test,\n",
    "                                                               y_test, \n",
    "                                                               data_config)\n",
    "\n",
    "X_train, X_valid, y_train, y_valid = train_test_split(X_train_valid,\n",
    "                                                      y_train_valid,\n",
    "                                                      test_size=0.2,\n",
    "                                                      random_state=0)"
   ]
  },
  {
   "cell_type": "code",
   "execution_count": 5,
   "metadata": {},
   "outputs": [],
   "source": [
    "# Load Optimal Model\n",
    "model_name = \"./VAE_Train_All\"\n",
    "optim_model = keras.models.load_model(model_name) # Model that was trained on all subjects"
   ]
  },
  {
   "cell_type": "code",
   "execution_count": 6,
   "metadata": {},
   "outputs": [
    {
     "name": "stdout",
     "output_type": "stream",
     "text": [
      "106/106 [==============================] - 21s 195ms/step - loss: 1.1791 - accuracy: 0.5260\n",
      "27/27 [==============================] - 5s 188ms/step - loss: 1.2360 - accuracy: 0.4846\n",
      "14/14 [==============================] - 3s 197ms/step - loss: 1.2333 - accuracy: 0.4944\n"
     ]
    },
    {
     "data": {
      "text/plain": [
       "[1.233320713043213, 0.4943566620349884]"
      ]
     },
     "execution_count": 6,
     "metadata": {},
     "output_type": "execute_result"
    }
   ],
   "source": [
    "# Evaluate Results (Train on all subjects, Test on all subjects)\n",
    "optim_model.evaluate(X_train, y_train) # 52.60%\n",
    "optim_model.evaluate(X_valid, y_valid) # 48.46%\n",
    "optim_model.evaluate(X_test, y_test) # 49.44%"
   ]
  },
  {
   "cell_type": "code",
   "execution_count": 7,
   "metadata": {},
   "outputs": [],
   "source": [
    "# Separate data by patient\n",
    "patient_data = []\n",
    "patient_truths = []\n",
    "\n",
    "for patient in np.unique(person_test):\n",
    "    idx = np.where(person_test == patient)[0]\n",
    "    patient_data.append(X_test[idx, :, :])\n",
    "    patient_truths.append(y_test[idx])\n",
    "    pass"
   ]
  },
  {
   "cell_type": "code",
   "execution_count": 8,
   "metadata": {},
   "outputs": [
    {
     "name": "stdout",
     "output_type": "stream",
     "text": [
      "2/2 [==============================] - 0s 122ms/step - loss: 1.2744 - accuracy: 0.4200\n",
      "2/2 [==============================] - 0s 118ms/step - loss: 1.2840 - accuracy: 0.4400\n",
      "2/2 [==============================] - 0s 105ms/step - loss: 1.1781 - accuracy: 0.6600\n",
      "2/2 [==============================] - 0s 140ms/step - loss: 1.1944 - accuracy: 0.5000\n",
      "2/2 [==============================] - 0s 127ms/step - loss: 1.2531 - accuracy: 0.5319\n",
      "2/2 [==============================] - 0s 131ms/step - loss: 1.2931 - accuracy: 0.4898\n",
      "2/2 [==============================] - 0s 97ms/step - loss: 1.1164 - accuracy: 0.5600\n",
      "2/2 [==============================] - 0s 94ms/step - loss: 1.2822 - accuracy: 0.3800\n",
      "2/2 [==============================] - 0s 100ms/step - loss: 1.2260 - accuracy: 0.4681\n"
     ]
    }
   ],
   "source": [
    "# Evaluate model on each patient (Train on all subjects, Test on a single subject)\n",
    "for i in range(len(patient_data)):\n",
    "    optim_model.evaluate(patient_data[i], patient_truths[i])"
   ]
  },
  {
   "cell_type": "code",
   "execution_count": 9,
   "metadata": {},
   "outputs": [
    {
     "data": {
      "text/plain": [
       "'\\nModel Parameters: 11 Epochs\\n    - Data augmented VAE-CNN\\n    - Regularization : 0.006\\n    - Learning Rate : 0.001\\n    - Time Points : 500\\n    - Kernel_dim : (10, 1)\\n    - Channel_dim : 22\\n    - Dropout : 0.5\\n    - Duplicate : 2\\n    - Sigma : 0.5\\n    - Mu : 0.0\\n    \\n    N.B. For importance of the parameters above, see VAE_CNN Model notebook for architecture\\n'"
      ]
     },
     "execution_count": 9,
     "metadata": {},
     "output_type": "execute_result"
    }
   ],
   "source": [
    "'''\n",
    "Model Parameters: 11 Epochs\n",
    "    - Data augmented VAE-CNN\n",
    "    - Regularization : 0.006\n",
    "    - Learning Rate : 0.001\n",
    "    - Time Points : 500\n",
    "    - Kernel_dim : (10, 1)\n",
    "    - Channel_dim : 22\n",
    "    - Dropout : 0.5\n",
    "    - Duplicate : 2\n",
    "    - Sigma : 0.5\n",
    "    - Mu : 0.0\n",
    "    \n",
    "    N.B. For importance of the parameters above, see VAE_CNN Model notebook for architecture\n",
    "'''"
   ]
  }
 ],
 "metadata": {
  "kernelspec": {
   "display_name": "Python 3",
   "language": "python",
   "name": "python3"
  },
  "language_info": {
   "codemirror_mode": {
    "name": "ipython",
    "version": 3
   },
   "file_extension": ".py",
   "mimetype": "text/x-python",
   "name": "python",
   "nbconvert_exporter": "python",
   "pygments_lexer": "ipython3",
   "version": "3.7.6"
  }
 },
 "nbformat": 4,
 "nbformat_minor": 4
}
