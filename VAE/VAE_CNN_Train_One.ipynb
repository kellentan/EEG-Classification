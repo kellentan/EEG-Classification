{
 "cells": [
  {
   "cell_type": "code",
   "execution_count": 1,
   "metadata": {},
   "outputs": [],
   "source": [
    "# Import Statements\n",
    "import eeg_utils\n",
    "import numpy as np\n",
    "from eeg_utils import *\n",
    "from tensorflow import keras\n",
    "from sklearn.model_selection import train_test_split"
   ]
  },
  {
   "cell_type": "code",
   "execution_count": 2,
   "metadata": {},
   "outputs": [],
   "source": [
    "# Load EEG Data\n",
    "X_test = np.load(\"X_test.npy\")\n",
    "y_test = np.load(\"y_test.npy\")\n",
    "person_train_valid = np.load(\"person_train_valid.npy\")\n",
    "X_train_valid = np.load(\"X_train_valid.npy\")\n",
    "y_train_valid = np.load(\"y_train_valid.npy\")\n",
    "person_test = np.load(\"person_test.npy\")"
   ]
  },
  {
   "cell_type": "code",
   "execution_count": 3,
   "metadata": {},
   "outputs": [
    {
     "name": "stdout",
     "output_type": "stream",
     "text": [
      "Training/Valid data shape: (2115, 22, 1000)\n",
      "Test data shape: (443, 22, 1000)\n",
      "Training/Valid target shape: (2115,)\n",
      "Test target shape: (443,)\n",
      "Person train/valid shape: (2115, 1)\n",
      "Person test shape: (443, 1)\n"
     ]
    }
   ],
   "source": [
    "# Visualize EEG Data Shapes\n",
    "print(\"Training/Valid data shape: {}\".format(X_train_valid.shape))\n",
    "print(\"Test data shape: {}\".format(X_test.shape))\n",
    "print(\"Training/Valid target shape: {}\".format(y_train_valid.shape))\n",
    "print(\"Test target shape: {}\".format(y_test.shape))\n",
    "print(\"Person train/valid shape: {}\".format(person_train_valid.shape))\n",
    "print(\"Person test shape: {}\".format(person_test.shape))"
   ]
  },
  {
   "cell_type": "code",
   "execution_count": 4,
   "metadata": {},
   "outputs": [],
   "source": [
    "# [RUN IFF] Trained on Subject One ONLY\n",
    "patient_data = []\n",
    "patient_truths = []\n",
    "\n",
    "test_data = []\n",
    "test_truths = []\n",
    "\n",
    "for patient in np.unique(person_train_valid):\n",
    "    idx = np.where(person_train_valid == patient)[0]\n",
    "    patient_data.append(X_train_valid[idx, :, :])\n",
    "    patient_truths.append(y_train_valid[idx])\n",
    "    pass\n",
    "\n",
    "# ALso split the testing set, as we want to optimize on subject one\n",
    "for patient in np.unique(person_test):\n",
    "    idx = np.where(person_test == patient)[0]\n",
    "    test_data.append(X_test[idx, :, :])\n",
    "    test_truths.append(y_test[idx])\n",
    "    pass\n",
    "\n",
    "# Store actual test data\n",
    "X_test_actual = X_test\n",
    "y_test_actual = y_test\n",
    "\n",
    "X_train_valid = patient_data[0]\n",
    "y_train_valid = patient_truths[0]\n",
    "X_test = test_data[0]\n",
    "y_test = test_truths[0]"
   ]
  },
  {
   "cell_type": "code",
   "execution_count": 5,
   "metadata": {},
   "outputs": [],
   "source": [
    "# Preprocess and Split Training Data\n",
    "data_config = {\"Duplicate\": 2, \"Mu\": 0.0, \"Sigma\": 0.5, \"Time_Point\": 500}\n",
    "X_train_valid, y_train_valid, X_test, y_test = vae_preprocess_data(X_train_valid,\n",
    "                                                               y_train_valid,\n",
    "                                                               X_test,\n",
    "                                                               y_test, \n",
    "                                                               data_config)\n",
    "\n",
    "X_train, X_valid, y_train, y_valid = train_test_split(X_train_valid,\n",
    "                                                      y_train_valid,\n",
    "                                                      test_size=0.2,\n",
    "                                                      random_state=0)"
   ]
  },
  {
   "cell_type": "code",
   "execution_count": 6,
   "metadata": {},
   "outputs": [],
   "source": [
    "# Load Optimal Model\n",
    "model_name = \"./VAE_Train_One\"\n",
    "optim_model = keras.models.load_model(model_name) # Model that was trained on all subjects"
   ]
  },
  {
   "cell_type": "code",
   "execution_count": 7,
   "metadata": {},
   "outputs": [
    {
     "name": "stdout",
     "output_type": "stream",
     "text": [
      "12/12 [==============================] - 3s 182ms/step - loss: 1.0750 - accuracy: 0.5409\n",
      "3/3 [==============================] - 1s 182ms/step - loss: 1.1949 - accuracy: 0.5158\n",
      "2/2 [==============================] - 0s 121ms/step - loss: 1.4330 - accuracy: 0.4600\n"
     ]
    },
    {
     "data": {
      "text/plain": [
       "[1.4330135583877563, 0.46000000834465027]"
      ]
     },
     "execution_count": 7,
     "metadata": {},
     "output_type": "execute_result"
    }
   ],
   "source": [
    "# Evaluate Results (Train on one subject, Test on one subject)\n",
    "optim_model.evaluate(X_train, y_train) # 54.09%\n",
    "optim_model.evaluate(X_valid, y_valid) # 51.58%\n",
    "optim_model.evaluate(X_test, y_test) # 46.00%"
   ]
  },
  {
   "cell_type": "code",
   "execution_count": 8,
   "metadata": {},
   "outputs": [
    {
     "data": {
      "text/plain": [
       "'\\nModel Parameters: 6 Epochs\\n    - Data augmented VAE-CNN\\n    - Regularization : 0.006\\n    - Learning Rate : 0.001\\n    - Time Points : 500\\n    - Kernel_dim : (10, 1)\\n    - Channel_dim : 22\\n    - Dropout : 0.5\\n    - Duplicate : 2\\n    - Sigma : 0.5\\n    - Mu : 0.0\\n    \\n    N.B. For importance of the parameters above, see VAE_CNN Model notebook for architecture\\n'"
      ]
     },
     "execution_count": 8,
     "metadata": {},
     "output_type": "execute_result"
    }
   ],
   "source": [
    "'''\n",
    "Model Parameters: 6 Epochs\n",
    "    - Data augmented VAE-CNN\n",
    "    - Regularization : 0.006\n",
    "    - Learning Rate : 0.001\n",
    "    - Time Points : 500\n",
    "    - Kernel_dim : (10, 1)\n",
    "    - Channel_dim : 22\n",
    "    - Dropout : 0.5\n",
    "    - Duplicate : 2\n",
    "    - Sigma : 0.5\n",
    "    - Mu : 0.0\n",
    "    \n",
    "    N.B. For importance of the parameters above, see VAE_CNN Model notebook for architecture\n",
    "'''"
   ]
  }
 ],
 "metadata": {
  "kernelspec": {
   "display_name": "Python 3",
   "language": "python",
   "name": "python3"
  },
  "language_info": {
   "codemirror_mode": {
    "name": "ipython",
    "version": 3
   },
   "file_extension": ".py",
   "mimetype": "text/x-python",
   "name": "python",
   "nbconvert_exporter": "python",
   "pygments_lexer": "ipython3",
   "version": "3.7.6"
  }
 },
 "nbformat": 4,
 "nbformat_minor": 4
}
