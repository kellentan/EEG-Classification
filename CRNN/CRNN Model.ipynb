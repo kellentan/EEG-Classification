{
 "cells": [
  {
   "cell_type": "code",
   "execution_count": 1,
   "metadata": {},
   "outputs": [],
   "source": [
    "# Import Statements\n",
    "import sys\n",
    "import copy\n",
    "import time\n",
    "import eeg_utils\n",
    "import numpy as np\n",
    "from eeg_utils import *\n",
    "import tensorflow as tf\n",
    "tf.compat.v1.enable_eager_execution()\n",
    "from tensorflow import keras\n",
    "import matplotlib.pyplot as plt\n",
    "from tensorflow.keras import layers\n",
    "from tensorflow.keras.optimizers import Adam\n",
    "from tensorflow.keras.models import Sequential\n",
    "from tensorflow.python.client import device_lib\n",
    "from tensorflow.keras.utils import to_categorical\n",
    "from tensorflow.keras.regularizers import l2, L1L2\n",
    "from sklearn.model_selection import train_test_split\n",
    "from tensorflow.keras.layers import Bidirectional, Flatten\n",
    "from tensorflow.keras.layers import Reshape, ConvLSTM2D, Attention\n",
    "from tensorflow.keras.layers import Dense, Dropout, ELU, ReLU, MaxPooling2D \n",
    "from tensorflow.keras.layers import LSTM, Maximum, BatchNormalization, Conv2D"
   ]
  },
  {
   "cell_type": "code",
   "execution_count": 2,
   "metadata": {},
   "outputs": [
    {
     "name": "stdout",
     "output_type": "stream",
     "text": [
      "Please install GPU version of TF\n"
     ]
    }
   ],
   "source": [
    "# Detect GPU\n",
    "if tf.test.gpu_device_name():\n",
    "    print('Default GPU Device: {}'.format(tf.test.gpu_device_name()))\n",
    "else:\n",
    "    print(\"Please install GPU version of TF\")"
   ]
  },
  {
   "cell_type": "code",
   "execution_count": 3,
   "metadata": {},
   "outputs": [],
   "source": [
    "# Load EEG Data\n",
    "X_test = np.load(\"X_test.npy\")\n",
    "y_test = np.load(\"y_test.npy\")\n",
    "person_train_valid = np.load(\"person_train_valid.npy\")\n",
    "X_train_valid = np.load(\"X_train_valid.npy\")\n",
    "y_train_valid = np.load(\"y_train_valid.npy\")\n",
    "person_test = np.load(\"person_test.npy\")"
   ]
  },
  {
   "cell_type": "code",
   "execution_count": 4,
   "metadata": {},
   "outputs": [
    {
     "name": "stdout",
     "output_type": "stream",
     "text": [
      "Training/Valid data shape: (2115, 22, 1000)\n",
      "Test data shape: (443, 22, 1000)\n",
      "Training/Valid target shape: (2115,)\n",
      "Test target shape: (443,)\n",
      "Person train/valid shape: (2115, 1)\n",
      "Person test shape: (443, 1)\n"
     ]
    }
   ],
   "source": [
    "# Visualize EEG Data Shapes\n",
    "print(\"Training/Valid data shape: {}\".format(X_train_valid.shape))\n",
    "print(\"Test data shape: {}\".format(X_test.shape))\n",
    "print(\"Training/Valid target shape: {}\".format(y_train_valid.shape))\n",
    "print(\"Test target shape: {}\".format(y_test.shape))\n",
    "print(\"Person train/valid shape: {}\".format(person_train_valid.shape))\n",
    "print(\"Person test shape: {}\".format(person_test.shape))"
   ]
  },
  {
   "cell_type": "code",
   "execution_count": 5,
   "metadata": {},
   "outputs": [],
   "source": [
    "# [RUN IFF] Train on Subject One ONLY\n",
    "patient_data = []\n",
    "patient_truths = []\n",
    "\n",
    "test_data = []\n",
    "test_truths = []\n",
    "\n",
    "'''\n",
    "for patient in np.unique(person_train_valid):\n",
    "    idx = np.where(person_train_valid == patient)[0]\n",
    "    patient_data.append(X_train_valid[idx, :, :])\n",
    "    patient_truths.append(y_train_valid[idx])\n",
    "    pass'''\n",
    "\n",
    "# ALso split the testing set, as we want to optimize on subject one\n",
    "for patient in np.unique(person_test):\n",
    "    idx = np.where(person_test == patient)[0]\n",
    "    test_data.append(X_test[idx, :, :])\n",
    "    test_truths.append(y_test[idx])\n",
    "    pass\n",
    "\n",
    "# X_train_valid = patient_data[0]\n",
    "# y_train_valid = patient_truths[0]\n",
    "X_test = test_data[0]\n",
    "y_test = test_truths[0]"
   ]
  },
  {
   "cell_type": "code",
   "execution_count": 6,
   "metadata": {},
   "outputs": [],
   "source": [
    "# Preprocess and Split Training Data\n",
    "data_config = {\"Duplicate\": 2, \"Mu\": 0.0, \"Sigma\": 0.5, \"Attention\": False, \"Swap\": True}\n",
    "X_train_valid, y_train_valid, X_test, y_test = preprocess_data(X_train_valid,\n",
    "                                                               y_train_valid,\n",
    "                                                               X_test,\n",
    "                                                               y_test, \n",
    "                                                               data_config)\n",
    "\n",
    "X_train, X_valid, y_train, y_valid = train_test_split(X_train_valid,\n",
    "                                                      y_train_valid,\n",
    "                                                      test_size=0.2,\n",
    "                                                      random_state=0)"
   ]
  },
  {
   "cell_type": "code",
   "execution_count": 7,
   "metadata": {},
   "outputs": [],
   "source": [
    "# Define model hyperparameters\n",
    "learning_rate = 1e-3\n",
    "iterations = 150\n",
    "time_point = 500\n",
    "kernel = (10, 1)\n",
    "dropout = 0.5\n",
    "pool = (3, 1)\n",
    "r2 = 0.006"
   ]
  },
  {
   "cell_type": "code",
   "execution_count": 8,
   "metadata": {},
   "outputs": [
    {
     "name": "stdout",
     "output_type": "stream",
     "text": [
      "Model: \"sequential\"\n",
      "_________________________________________________________________\n",
      " Layer (type)                Output Shape              Param #   \n",
      "=================================================================\n",
      " conv2d (Conv2D)             (None, 500, 1, 25)        5525      \n",
      "                                                                 \n",
      " max_pooling2d (MaxPooling2D  (None, 167, 1, 25)       0         \n",
      " )                                                               \n",
      "                                                                 \n",
      " batch_normalization (BatchN  (None, 167, 1, 25)       100       \n",
      " ormalization)                                                   \n",
      "                                                                 \n",
      " dropout (Dropout)           (None, 167, 1, 25)        0         \n",
      "                                                                 \n",
      " conv2d_1 (Conv2D)           (None, 167, 1, 50)        12550     \n",
      "                                                                 \n",
      " max_pooling2d_1 (MaxPooling  (None, 56, 1, 50)        0         \n",
      " 2D)                                                             \n",
      "                                                                 \n",
      " batch_normalization_1 (Batc  (None, 56, 1, 50)        200       \n",
      " hNormalization)                                                 \n",
      "                                                                 \n",
      " dropout_1 (Dropout)         (None, 56, 1, 50)         0         \n",
      "                                                                 \n",
      " conv2d_2 (Conv2D)           (None, 56, 1, 100)        50100     \n",
      "                                                                 \n",
      " max_pooling2d_2 (MaxPooling  (None, 19, 1, 100)       0         \n",
      " 2D)                                                             \n",
      "                                                                 \n",
      " batch_normalization_2 (Batc  (None, 19, 1, 100)       400       \n",
      " hNormalization)                                                 \n",
      "                                                                 \n",
      " dropout_2 (Dropout)         (None, 19, 1, 100)        0         \n",
      "                                                                 \n",
      " flatten (Flatten)           (None, 1900)              0         \n",
      "                                                                 \n",
      " dense (Dense)               (None, 50)                95050     \n",
      "                                                                 \n",
      " reshape (Reshape)           (None, 50, 1)             0         \n",
      "                                                                 \n",
      " lstm (LSTM)                 (None, 50, 10)            480       \n",
      "                                                                 \n",
      " lstm_1 (LSTM)               (None, 10)                840       \n",
      "                                                                 \n",
      " dense_1 (Dense)             (None, 4)                 44        \n",
      "                                                                 \n",
      "=================================================================\n",
      "Total params: 165,289\n",
      "Trainable params: 164,939\n",
      "Non-trainable params: 350\n",
      "_________________________________________________________________\n"
     ]
    }
   ],
   "source": [
    "# CRNN w/ Doubly Stacked LSTM\n",
    "# First Block\n",
    "lstm_rnn = Sequential()\n",
    "lstm_rnn.add(Conv2D(filters=25, kernel_size=kernel, padding=\"same\",\n",
    "                    activation=\"elu\", input_shape=(time_point, 1, 22),\n",
    "                    kernel_regularizer=l2(r2)))\n",
    "lstm_rnn.add(MaxPooling2D(pool_size=pool, padding=\"same\"))\n",
    "lstm_rnn.add(BatchNormalization())\n",
    "lstm_rnn.add(Dropout(dropout))\n",
    "\n",
    "# Second Block\n",
    "lstm_rnn.add(Conv2D(filters=50, kernel_size=kernel, padding=\"same\",\n",
    "                    activation=\"elu\", kernel_regularizer=l2(r2)))\n",
    "lstm_rnn.add(MaxPooling2D(pool_size=pool, padding=\"same\"))\n",
    "lstm_rnn.add(BatchNormalization())\n",
    "lstm_rnn.add(Dropout(dropout))\n",
    "\n",
    "# Third Block\n",
    "lstm_rnn.add(Conv2D(filters=100, kernel_size=kernel, padding=\"same\",\n",
    "                    activation=\"elu\", kernel_regularizer=l2(r2)))\n",
    "lstm_rnn.add(MaxPooling2D(pool_size=pool, padding=\"same\"))\n",
    "lstm_rnn.add(BatchNormalization())\n",
    "lstm_rnn.add(Dropout(dropout))\n",
    "\n",
    "# Stacked LSTM Block\n",
    "lstm_rnn.add(Flatten())\n",
    "lstm_rnn.add(Dense((50)))\n",
    "lstm_rnn.add(Reshape((50, 1)))\n",
    "lstm_rnn.add(LSTM(10, recurrent_dropout=dropout, dropout=dropout,\n",
    "                  input_shape=(50, 1), return_sequences=True))\n",
    "lstm_rnn.add(LSTM(10, recurrent_dropout=dropout, dropout=dropout,\n",
    "                  input_shape=(50, 1), return_sequences=False))\n",
    "\n",
    "# Fully-Connected Layer\n",
    "lstm_rnn.add(Dense(4, activation=\"softmax\"))\n",
    "\n",
    "# Compile the model and optimizer\n",
    "lstm_rnn.compile(loss=\"categorical_crossentropy\",\n",
    "                  optimizer = Adam(learning_rate=learning_rate),\n",
    "                  metrics=[\"accuracy\"])\n",
    "\n",
    "# Print the model summary\n",
    "lstm_rnn.summary()"
   ]
  },
  {
   "cell_type": "code",
   "execution_count": 9,
   "metadata": {},
   "outputs": [],
   "source": [
    "# Trim Data via Time Point Parameter\n",
    "X_train_5d = X_train[:, :time_point, :, :]\n",
    "X_valid_5d = X_valid[:, :time_point, :, :]\n",
    "X_test_5d = X_test[:, :time_point, :, :]"
   ]
  },
  {
   "cell_type": "code",
   "execution_count": 10,
   "metadata": {},
   "outputs": [],
   "source": [
    "# Find Optimal Model\n",
    "train = False\n",
    "\n",
    "if (train == True):\n",
    "    # N.B. ONLY SET TO TRUE IF WE WANT NEW MODEL, OTHERWISE IT WILL OVERWRITE PREVIOUS MODEL\n",
    "    filename = \"CNN_Train_All_Test_One\" # \"CRNN_Train_All\" OR \"CNN_Train_One\" OR \"CNN_Train_All_Test_One\"\n",
    "    best_acc, epoch_num = find_optimal_model(lstm_rnn, X_train_5d, y_train, \n",
    "                                             X_valid_5d, y_valid, X_test_5d, \n",
    "                                             y_test, filename, iterations, \n",
    "                                             prev_best=-1.0)"
   ]
  },
  {
   "cell_type": "code",
   "execution_count": 11,
   "metadata": {},
   "outputs": [],
   "source": [
    "# For Accuracy v. Time Point metric, refactor code as below:\n",
    "learning_rate = 1e-3\n",
    "iterations = 150\n",
    "time_point = 500\n",
    "kernel = (10, 1)\n",
    "dropout = 0.5\n",
    "pool = (3, 1)\n",
    "r2 = 0.006\n",
    "params = {\"lr\": learning_rate, \"dropout\": dropout, \"pool\": pool, \"r2\": r2, \"kernel\": kernel}"
   ]
  },
  {
   "cell_type": "code",
   "execution_count": 12,
   "metadata": {},
   "outputs": [],
   "source": [
    "# %% Helper Functions\n",
    "# Model as Return Object of Function\n",
    "def crnn_model(kernel, time_point, r2, pool, dropout, lr):\n",
    "    lstm_rnn = Sequential()\n",
    "    lstm_rnn.add(Conv2D(filters=25, kernel_size=kernel, padding=\"same\",\n",
    "                        activation=\"elu\", input_shape=(time_point, 1, 22),\n",
    "                        kernel_regularizer=l2(r2)))\n",
    "    lstm_rnn.add(MaxPooling2D(pool_size=pool, padding=\"same\"))\n",
    "    lstm_rnn.add(BatchNormalization())\n",
    "    lstm_rnn.add(Dropout(dropout))\n",
    "\n",
    "    # Second Block\n",
    "    lstm_rnn.add(Conv2D(filters=50, kernel_size=kernel, padding=\"same\",\n",
    "                        activation=\"elu\", kernel_regularizer=l2(r2)))\n",
    "    lstm_rnn.add(MaxPooling2D(pool_size=pool, padding=\"same\"))\n",
    "    lstm_rnn.add(BatchNormalization())\n",
    "    lstm_rnn.add(Dropout(dropout))\n",
    "\n",
    "    # Third Block\n",
    "    lstm_rnn.add(Conv2D(filters=100, kernel_size=kernel, padding=\"same\",\n",
    "                        activation=\"elu\", kernel_regularizer=l2(r2)))\n",
    "    lstm_rnn.add(MaxPooling2D(pool_size=pool, padding=\"same\"))\n",
    "    lstm_rnn.add(BatchNormalization())\n",
    "    lstm_rnn.add(Dropout(dropout))\n",
    "\n",
    "    # Stacked LSTM Block\n",
    "    lstm_rnn.add(Flatten())\n",
    "    lstm_rnn.add(Dense((50)))\n",
    "    lstm_rnn.add(Reshape((50, 1)))\n",
    "    lstm_rnn.add(LSTM(10, recurrent_dropout=dropout, dropout=dropout,\n",
    "                      input_shape=(50, 1), return_sequences=True))\n",
    "    lstm_rnn.add(LSTM(10, recurrent_dropout=dropout, dropout=dropout,\n",
    "                      input_shape=(50, 1), return_sequences=False))\n",
    "\n",
    "    # Fully-Connected Layer\n",
    "    lstm_rnn.add(Dense(4, activation=\"softmax\"))\n",
    "\n",
    "    # Compile the model and optimizer\n",
    "    lstm_rnn.compile(loss=\"categorical_crossentropy\",\n",
    "                      optimizer = Adam(learning_rate=lr),\n",
    "                      metrics=[\"accuracy\"])\n",
    "    \n",
    "    # Return the model\n",
    "    return lstm_rnn\n",
    "\n",
    "# Obtain Accuracy v. Sample Metric\n",
    "def accuracy_v_sample(steps, epoch, X_train, y_train, X_valid, y_valid, X_test, y_test, params):\n",
    "    # Obtain common model parameters\n",
    "    kernel = params[\"kernel\"]\n",
    "    r2 = params[\"r2\"]\n",
    "    pool = params[\"pool\"]\n",
    "    dropout = params[\"dropout\"]\n",
    "    lr = params[\"lr\"]\n",
    "    \n",
    "    # Store accuracies\n",
    "    accuracies = []\n",
    "    \n",
    "    # Obtain accuracies from varying sample size\n",
    "    for sample in steps:\n",
    "        print(\"Beginning time sample:\", str(sample))\n",
    "        model = crnn_model(kernel, sample, r2, pool, dropout, lr)\n",
    "        results = model.fit(X_train[:, :sample, :, :], y_train, batch_size=64, epochs=epoch, \n",
    "                             validation_data=(X_valid[:, :sample, :, :], y_valid), verbose=False)\n",
    "        \n",
    "        test_score = model.evaluate(X_test[:, :sample, :, :], y_test)\n",
    "        accuracies.append(test_score[1])\n",
    "    \n",
    "    return accuracies"
   ]
  },
  {
   "cell_type": "code",
   "execution_count": 13,
   "metadata": {},
   "outputs": [
    {
     "name": "stdout",
     "output_type": "stream",
     "text": [
      "Beginning time sample: 100\n",
      "2/2 [==============================] - 0s 16ms/step - loss: 1.5747 - accuracy: 0.4200\n",
      "Beginning time sample: 200\n",
      "2/2 [==============================] - 0s 14ms/step - loss: 1.4482 - accuracy: 0.4400\n",
      "Beginning time sample: 300\n",
      "2/2 [==============================] - 0s 10ms/step - loss: 1.4055 - accuracy: 0.4600\n",
      "Beginning time sample: 400\n",
      "2/2 [==============================] - 0s 25ms/step - loss: 1.5430 - accuracy: 0.5000\n",
      "Beginning time sample: 500\n",
      "2/2 [==============================] - 0s 27ms/step - loss: 1.3730 - accuracy: 0.5400\n",
      "Beginning time sample: 600\n",
      "2/2 [==============================] - 0s 20ms/step - loss: 1.2052 - accuracy: 0.5800\n",
      "Beginning time sample: 700\n",
      "2/2 [==============================] - 0s 25ms/step - loss: 1.5054 - accuracy: 0.5000\n",
      "Beginning time sample: 800\n",
      "2/2 [==============================] - 0s 26ms/step - loss: 1.4848 - accuracy: 0.4800\n",
      "Beginning time sample: 900\n",
      "2/2 [==============================] - 0s 29ms/step - loss: 1.4063 - accuracy: 0.5600\n",
      "Beginning time sample: 1000\n",
      "2/2 [==============================] - 0s 29ms/step - loss: 1.6662 - accuracy: 0.4800\n"
     ]
    }
   ],
   "source": [
    "steps = [(i+1) * 100 for i in range(10)]\n",
    "epochs = 25\n",
    "accuracy = accuracy_v_sample(steps, epochs, X_train, y_train, X_valid, y_valid, X_test, y_test, params)"
   ]
  },
  {
   "cell_type": "code",
   "execution_count": 15,
   "metadata": {},
   "outputs": [
    {
     "data": {
      "text/plain": [
       "Text(0, 0.5, 'Test Accuracy (All Subjects)')"
      ]
     },
     "execution_count": 15,
     "metadata": {},
     "output_type": "execute_result"
    },
    {
     "data": {
      "image/png": "[encoded data removed]",
      "text/plain": [
       "<Figure size 432x288 with 1 Axes>"
      ]
     },
     "metadata": {
      "needs_background": "light"
     },
     "output_type": "display_data"
    }
   ],
   "source": [
    "# Plot results of accuracy v. samples\n",
    "plt.plot(steps, accuracy)\n",
    "plt.title(\"Test Accuracy v. Time Sample (25 Epochs)\")\n",
    "plt.xlabel(\"Time Sample\")\n",
    "plt.ylabel(\"Test Accuracy (All Subjects)\")"
   ]
  }
 ],
 "metadata": {
  "kernelspec": {
   "display_name": "Python 3",
   "language": "python",
   "name": "python3"
  },
  "language_info": {
   "codemirror_mode": {
    "name": "ipython",
    "version": 3
   },
   "file_extension": ".py",
   "mimetype": "text/x-python",
   "name": "python",
   "nbconvert_exporter": "python",
   "pygments_lexer": "ipython3",
   "version": "3.7.6"
  }
 },
 "nbformat": 4,
 "nbformat_minor": 4
}
